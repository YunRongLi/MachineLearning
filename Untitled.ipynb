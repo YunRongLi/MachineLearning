{
 "cells": [
  {
   "cell_type": "code",
   "execution_count": 10,
   "metadata": {},
   "outputs": [],
   "source": [
    "import xlrd\n",
    "import numpy as np\n",
    "import matplotlib.pyplot as plt\n",
    "import tensorflow as tf\n",
    "from mpl_toolkits.mplot3d import Axes3D"
   ]
  },
  {
   "cell_type": "code",
   "execution_count": 11,
   "metadata": {},
   "outputs": [],
   "source": [
    "Data_file = 'fire_theft.xls'"
   ]
  },
  {
   "cell_type": "code",
   "execution_count": 12,
   "metadata": {},
   "outputs": [],
   "source": [
    "book = xlrd.open_workbook(Data_file, encoding_override='utf-8')\n",
    "sheet = book.sheet_by_index(0)"
   ]
  },
  {
   "cell_type": "code",
   "execution_count": 13,
   "metadata": {},
   "outputs": [],
   "source": [
    "data = np.asarray([sheet.row_values(i) for i in range(1, sheet.nrows)])"
   ]
  },
  {
   "cell_type": "code",
   "execution_count": 16,
   "metadata": {},
   "outputs": [],
   "source": [
    "def BatchNormalize(x):\n",
    "    #print('X', X0)\n",
    "    avg = np.average(x)\n",
    "    #print('Avg',avg)\n",
    "    std = np.std(x)\n",
    "    #print('std', std)\n",
    "\n",
    "    X = []\n",
    "    for i in range(len(x)):\n",
    "        X.append((x[i] - avg) / std)\n",
    "\n",
    "    return np.array(X)"
   ]
  },
  {
   "cell_type": "code",
   "execution_count": 17,
   "metadata": {},
   "outputs": [
    {
     "data": {
      "text/plain": [
       "42"
      ]
     },
     "execution_count": 17,
     "metadata": {},
     "output_type": "execute_result"
    }
   ],
   "source": [
    "n_samples = sheet.nrows-1\n",
    "n_samples"
   ]
  },
  {
   "cell_type": "code",
   "execution_count": 18,
   "metadata": {},
   "outputs": [],
   "source": [
    "x = data[:,0]\n",
    "x = x.reshape(42,1)\n",
    "XNor = BatchNormalize(x)\n",
    "y = data[:,1]\n",
    "y = y.reshape(42,1)\n",
    "YNor = BatchNormalize(y)\n",
    "z = np.linspace(1,42,num=42)\n",
    "z = z.reshape(42,1)/42."
   ]
  },
  {
   "cell_type": "code",
   "execution_count": 19,
   "metadata": {},
   "outputs": [],
   "source": [
    "n_input = 2\n",
    "n_hidden_1 = 2\n",
    "n_hidden_2 = 2\n",
    "learning_rate = 0.001\n",
    "training_epochs = 1000\n",
    "total_batch = 42\n",
    "display_step = 1"
   ]
  },
  {
   "cell_type": "code",
   "execution_count": 20,
   "metadata": {},
   "outputs": [],
   "source": [
    "def layer(output_dim,input_dim,inputs, activation=None):\n",
    "    W = tf.Variable(tf.random_normal([input_dim, output_dim]))\n",
    "    b = tf.Variable(tf.random_normal([1, output_dim]))\n",
    "    XWb = tf.matmul(inputs, W) + b\n",
    "    if activation is None:\n",
    "        outputs = XWb\n",
    "    else:\n",
    "        outputs = activation(XWb)\n",
    "    return outputs"
   ]
  },
  {
   "cell_type": "code",
   "execution_count": 21,
   "metadata": {},
   "outputs": [],
   "source": [
    "#input\n",
    "X = tf.placeholder(tf.float32, shape=(1,2), name='Input1')\n",
    "#X2 = tf.placeholder(tf.float32, shape=(1,1), name='Input2')"
   ]
  },
  {
   "cell_type": "code",
   "execution_count": 22,
   "metadata": {},
   "outputs": [],
   "source": [
    "#hidden layer\n",
    "layer1 = layer(128, 2, X, tf.sigmoid)\n",
    "layer2 = layer(64, 128, layer1, tf.sigmoid)\n",
    "layer3 = layer(16, 64, layer2, tf.sigmoid)\n",
    "layer4 = layer(8, 16, layer3, tf.sigmoid)\n",
    "layer5 = layer(4, 8, layer4, tf.sigmoid)\n",
    "output = layer(1, 4, layer5, tf.sigmoid)"
   ]
  },
  {
   "cell_type": "code",
   "execution_count": 23,
   "metadata": {},
   "outputs": [],
   "source": [
    "Y = tf.placeholder(tf.float32, shape=(1, 1))"
   ]
  },
  {
   "cell_type": "code",
   "execution_count": 24,
   "metadata": {},
   "outputs": [],
   "source": [
    "#loss fuction\n",
    "#loss = tf.square(Y - y_predict, name='loss')\n",
    "with tf.name_scope('loss'):\n",
    "    loss = tf.square(Y - output, name='loss')"
   ]
  },
  {
   "cell_type": "code",
   "execution_count": 25,
   "metadata": {},
   "outputs": [],
   "source": [
    "with tf.name_scope('optimizer'):\n",
    "    train = tf.train.AdamOptimizer(learning_rate=learning_rate).minimize(loss)"
   ]
  },
  {
   "cell_type": "code",
   "execution_count": 28,
   "metadata": {
    "scrolled": true
   },
   "outputs": [
    {
     "name": "stdout",
     "output_type": "stream",
     "text": [
      "cost:  [[0.6202788]]\n",
      "cost:  [[0.10918495]]\n",
      "cost:  [[0.07836818]]\n",
      "cost:  [[0.06647187]]\n",
      "cost:  [[0.05766517]]\n",
      "cost:  [[0.01641729]]\n",
      "cost:  [[0.00879802]]\n",
      "cost:  [[0.00790263]]\n",
      "cost:  [[0.00687818]]\n",
      "cost:  [[0.00444277]]\n",
      "Finished\n"
     ]
    }
   ],
   "source": [
    "init = tf.global_variables_initializer()\n",
    "\n",
    "with tf.Session() as sess:\n",
    "    sess.run(init)\n",
    "    \n",
    "    #writer = tf.summary.FileWriter('./linear_reg', sess.graph)\n",
    "    for epoch in range(training_epochs):\n",
    "        \n",
    "        for i in range(0, total_batch):\n",
    "            inputs = np.array([x[[i]], y[[i]]]).reshape(1,2)\n",
    "            _, cost = sess.run([train, loss], feed_dict={X:inputs , Y:z[[i]]})\n",
    "        if (epoch%100)==0:\n",
    "            print('cost: ', cost)\n",
    "        \n",
    "    print('Finished')\n",
    "    #writer.close()\n",
    "    \n",
    "    Yp = []\n",
    "    for i in range(total_batch):\n",
    "        inputs = np.array([x[[i]], y[[i]]]).reshape(1,2)\n",
    "        Yp.append(sess.run(output, feed_dict={X:inputs}))\n",
    "        \n",
    "    sess.close()"
   ]
  },
  {
   "cell_type": "code",
   "execution_count": 29,
   "metadata": {},
   "outputs": [
    {
     "name": "stdout",
     "output_type": "stream",
     "text": [
      "Y Predict: [[0.1769496]]  Y: [[0.02380952]]\n",
      "Y Predict: [[0.09718976]]  Y: [[0.04761905]]\n",
      "Y Predict: [[0.10615952]]  Y: [[0.07142857]]\n",
      "Y Predict: [[0.08090696]]  Y: [[0.0952381]]\n",
      "Y Predict: [[0.17649935]]  Y: [[0.11904762]]\n",
      "Y Predict: [[0.1812073]]  Y: [[0.14285714]]\n",
      "Y Predict: [[0.20413373]]  Y: [[0.16666667]]\n",
      "Y Predict: [[0.16040412]]  Y: [[0.19047619]]\n",
      "Y Predict: [[0.314592]]  Y: [[0.21428571]]\n",
      "Y Predict: [[0.16352601]]  Y: [[0.23809524]]\n",
      "Y Predict: [[0.30136392]]  Y: [[0.26190476]]\n",
      "Y Predict: [[0.27625072]]  Y: [[0.28571429]]\n",
      "Y Predict: [[0.2922062]]  Y: [[0.30952381]]\n",
      "Y Predict: [[0.31466106]]  Y: [[0.33333333]]\n",
      "Y Predict: [[0.39120442]]  Y: [[0.35714286]]\n",
      "Y Predict: [[0.711502]]  Y: [[0.38095238]]\n",
      "Y Predict: [[0.6653719]]  Y: [[0.4047619]]\n",
      "Y Predict: [[0.4064517]]  Y: [[0.42857143]]\n",
      "Y Predict: [[0.41270065]]  Y: [[0.45238095]]\n",
      "Y Predict: [[0.5125472]]  Y: [[0.47619048]]\n",
      "Y Predict: [[0.3788163]]  Y: [[0.5]]\n",
      "Y Predict: [[0.525915]]  Y: [[0.52380952]]\n",
      "Y Predict: [[0.49001822]]  Y: [[0.54761905]]\n",
      "Y Predict: [[0.52156264]]  Y: [[0.57142857]]\n",
      "Y Predict: [[0.63094234]]  Y: [[0.5952381]]\n",
      "Y Predict: [[0.6326228]]  Y: [[0.61904762]]\n",
      "Y Predict: [[0.65869176]]  Y: [[0.64285714]]\n",
      "Y Predict: [[0.6722428]]  Y: [[0.66666667]]\n",
      "Y Predict: [[0.72220427]]  Y: [[0.69047619]]\n",
      "Y Predict: [[0.65967476]]  Y: [[0.71428571]]\n",
      "Y Predict: [[0.7028478]]  Y: [[0.73809524]]\n",
      "Y Predict: [[0.7611862]]  Y: [[0.76190476]]\n",
      "Y Predict: [[0.8100251]]  Y: [[0.78571429]]\n",
      "Y Predict: [[0.84212]]  Y: [[0.80952381]]\n",
      "Y Predict: [[0.73482]]  Y: [[0.83333333]]\n",
      "Y Predict: [[0.8882977]]  Y: [[0.85714286]]\n",
      "Y Predict: [[0.8287223]]  Y: [[0.88095238]]\n",
      "Y Predict: [[0.84463274]]  Y: [[0.9047619]]\n",
      "Y Predict: [[0.9260705]]  Y: [[0.92857143]]\n",
      "Y Predict: [[0.92761326]]  Y: [[0.95238095]]\n",
      "Y Predict: [[0.8286346]]  Y: [[0.97619048]]\n",
      "Y Predict: [[0.92632014]]  Y: [[1.]]\n"
     ]
    }
   ],
   "source": [
    "for i in range(len(Yp)):\n",
    "    print('Y Predict:', Yp[i], ' Y:', z[[i]])"
   ]
  },
  {
   "cell_type": "code",
   "execution_count": null,
   "metadata": {},
   "outputs": [],
   "source": []
  }
 ],
 "metadata": {
  "kernelspec": {
   "display_name": "Python 3",
   "language": "python",
   "name": "python3"
  },
  "language_info": {
   "codemirror_mode": {
    "name": "ipython",
    "version": 3
   },
   "file_extension": ".py",
   "mimetype": "text/x-python",
   "name": "python",
   "nbconvert_exporter": "python",
   "pygments_lexer": "ipython3",
   "version": "3.6.7"
  }
 },
 "nbformat": 4,
 "nbformat_minor": 2
}
